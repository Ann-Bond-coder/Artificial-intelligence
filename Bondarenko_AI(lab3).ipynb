{
  "nbformat": 4,
  "nbformat_minor": 0,
  "metadata": {
    "colab": {
      "provenance": [],
      "authorship_tag": "ABX9TyOZDojKid7XIlzuX13iw6QD",
      "include_colab_link": true
    },
    "kernelspec": {
      "name": "python3",
      "display_name": "Python 3"
    },
    "language_info": {
      "name": "python"
    }
  },
  "cells": [
    {
      "cell_type": "markdown",
      "metadata": {
        "id": "view-in-github",
        "colab_type": "text"
      },
      "source": [
        "<a href=\"https://colab.research.google.com/github/Ann-Bond-coder/Artificial-intelligence/blob/main/Bondarenko_AI(lab3).ipynb\" target=\"_parent\"><img src=\"https://colab.research.google.com/assets/colab-badge.svg\" alt=\"Open In Colab\"/></a>"
      ]
    },
    {
      "cell_type": "markdown",
      "source": [
        "##Варіант 17"
      ],
      "metadata": {
        "id": "hesHti22utqw"
      }
    },
    {
      "cell_type": "code",
      "execution_count": null,
      "metadata": {
        "id": "0bIUkM_0um8y"
      },
      "outputs": [],
      "source": [
        "# Виконати імпорт необхідних бібліотек.\n",
        "import pandas as pd\n",
        "import numpy as np\n",
        "import os\n",
        "from sklearn.impute import SimpleImputer"
      ]
    },
    {
      "cell_type": "code",
      "source": [
        "# Виконати підключення до Google Drive, створити необхідні змінні \n",
        "# для зберігання шляхів до каталогів з данними.\n",
        "# Вивести інформацію про вміст каталогу з данними.\n",
        "from google.colab import drive\n",
        "drive.mount('/content/gdrive')\n",
        "original_path = '/content/gdrive/My Drive/Colab Notebooks/data/'"
      ],
      "metadata": {
        "colab": {
          "base_uri": "https://localhost:8080/"
        },
        "id": "qdWsnXB-vnQy",
        "outputId": "25da184e-f572-4107-ff68-765a58c1714a"
      },
      "execution_count": null,
      "outputs": [
        {
          "output_type": "stream",
          "name": "stdout",
          "text": [
            "Drive already mounted at /content/gdrive; to attempt to forcibly remount, call drive.mount(\"/content/gdrive\", force_remount=True).\n"
          ]
        }
      ]
    },
    {
      "cell_type": "code",
      "source": [
        "# Створити змінну для зберігання шляху до файлу з данними.\n",
        "path = os.path.join(original_path, 'ratings_withoutHeaders.csv')"
      ],
      "metadata": {
        "id": "fJ3Ux-owvw7o"
      },
      "execution_count": null,
      "outputs": []
    },
    {
      "cell_type": "code",
      "source": [
        "# Зчитати дані з файлу у масив NumPy.\n",
        "data = pd.read_csv(path).astype(float)\n",
        "data_np = np.array(data)\n",
        "print(data_np)"
      ],
      "metadata": {
        "colab": {
          "base_uri": "https://localhost:8080/"
        },
        "id": "TvqXdJulllxY",
        "outputId": "864aa3f4-b7da-4747-a0ab-b4d6807ab7a5"
      },
      "execution_count": null,
      "outputs": [
        {
          "output_type": "stream",
          "name": "stdout",
          "text": [
            "[[1.0000e+00 4.3900e+02 3.0000e+00]\n",
            " [1.0000e+00 5.8800e+02 5.0000e+00]\n",
            " [1.0000e+00 1.1690e+03 4.0000e+00]\n",
            " ...\n",
            " [1.0000e+04 4.9383e+04 5.0000e+00]\n",
            " [1.0000e+04 5.0124e+04 5.0000e+00]\n",
            " [1.0000e+04 5.1328e+04 1.0000e+00]]\n"
          ]
        }
      ]
    },
    {
      "cell_type": "code",
      "source": [
        "# Вивести кількість строк та стовбців.\n",
        "data_np.shape"
      ],
      "metadata": {
        "colab": {
          "base_uri": "https://localhost:8080/"
        },
        "id": "g3gaS8a1zO9r",
        "outputId": "45696cc3-696d-4d5a-e4e7-8d7df0b6e050"
      },
      "execution_count": null,
      "outputs": [
        {
          "output_type": "execute_result",
          "data": {
            "text/plain": [
              "(981755, 3)"
            ]
          },
          "metadata": {},
          "execution_count": 10
        }
      ]
    },
    {
      "cell_type": "code",
      "source": [
        "# Написати функцію додавання у набір данних необхідної кількості (%) пропущених значень у випадковій позиції. Параметри функції: \n",
        "# оригінальний набір данних та процент пропущених значень заданий у вигляді дійсного числа.\n",
        "\n",
        "def add_NaNs(original_data, nan_percent):\n",
        "    count = int(original_data.size * nan_percent)\n",
        "    nan_positions = np.random.choice(original_data.size, count, replace=False)\n",
        "    original_data.values.flat[nan_positions] = np.nan\n",
        "    return original_data"
      ],
      "metadata": {
        "id": "Qgorx8qMzX4g"
      },
      "execution_count": null,
      "outputs": []
    },
    {
      "cell_type": "code",
      "source": [
        "# Утворити новий набір даних з пропущеними значеннями (% пропущених значень - по варіанту = №варіанта + 50).\n",
        "add_NaNs(data, 0.67)"
      ],
      "metadata": {
        "colab": {
          "base_uri": "https://localhost:8080/",
          "height": 423
        },
        "id": "ahkSA5D-ztI2",
        "outputId": "22ded38d-4684-4fca-efb8-e5e1b0b7e608"
      },
      "execution_count": null,
      "outputs": [
        {
          "output_type": "execute_result",
          "data": {
            "text/plain": [
              "              1      314    5\n",
              "0           NaN      NaN  3.0\n",
              "1           NaN      NaN  NaN\n",
              "2           1.0   1169.0  4.0\n",
              "3           1.0      NaN  NaN\n",
              "4           NaN      NaN  NaN\n",
              "...         ...      ...  ...\n",
              "981750      NaN      NaN  NaN\n",
              "981751      NaN      NaN  4.0\n",
              "981752  10000.0  49383.0  NaN\n",
              "981753  10000.0      NaN  5.0\n",
              "981754  10000.0  51328.0  NaN\n",
              "\n",
              "[981755 rows x 3 columns]"
            ],
            "text/html": [
              "\n",
              "  <div id=\"df-e92b8c4d-2ce0-4b18-9293-cada4d1f3be2\">\n",
              "    <div class=\"colab-df-container\">\n",
              "      <div>\n",
              "<style scoped>\n",
              "    .dataframe tbody tr th:only-of-type {\n",
              "        vertical-align: middle;\n",
              "    }\n",
              "\n",
              "    .dataframe tbody tr th {\n",
              "        vertical-align: top;\n",
              "    }\n",
              "\n",
              "    .dataframe thead th {\n",
              "        text-align: right;\n",
              "    }\n",
              "</style>\n",
              "<table border=\"1\" class=\"dataframe\">\n",
              "  <thead>\n",
              "    <tr style=\"text-align: right;\">\n",
              "      <th></th>\n",
              "      <th>1</th>\n",
              "      <th>314</th>\n",
              "      <th>5</th>\n",
              "    </tr>\n",
              "  </thead>\n",
              "  <tbody>\n",
              "    <tr>\n",
              "      <th>0</th>\n",
              "      <td>NaN</td>\n",
              "      <td>NaN</td>\n",
              "      <td>3.0</td>\n",
              "    </tr>\n",
              "    <tr>\n",
              "      <th>1</th>\n",
              "      <td>NaN</td>\n",
              "      <td>NaN</td>\n",
              "      <td>NaN</td>\n",
              "    </tr>\n",
              "    <tr>\n",
              "      <th>2</th>\n",
              "      <td>1.0</td>\n",
              "      <td>1169.0</td>\n",
              "      <td>4.0</td>\n",
              "    </tr>\n",
              "    <tr>\n",
              "      <th>3</th>\n",
              "      <td>1.0</td>\n",
              "      <td>NaN</td>\n",
              "      <td>NaN</td>\n",
              "    </tr>\n",
              "    <tr>\n",
              "      <th>4</th>\n",
              "      <td>NaN</td>\n",
              "      <td>NaN</td>\n",
              "      <td>NaN</td>\n",
              "    </tr>\n",
              "    <tr>\n",
              "      <th>...</th>\n",
              "      <td>...</td>\n",
              "      <td>...</td>\n",
              "      <td>...</td>\n",
              "    </tr>\n",
              "    <tr>\n",
              "      <th>981750</th>\n",
              "      <td>NaN</td>\n",
              "      <td>NaN</td>\n",
              "      <td>NaN</td>\n",
              "    </tr>\n",
              "    <tr>\n",
              "      <th>981751</th>\n",
              "      <td>NaN</td>\n",
              "      <td>NaN</td>\n",
              "      <td>4.0</td>\n",
              "    </tr>\n",
              "    <tr>\n",
              "      <th>981752</th>\n",
              "      <td>10000.0</td>\n",
              "      <td>49383.0</td>\n",
              "      <td>NaN</td>\n",
              "    </tr>\n",
              "    <tr>\n",
              "      <th>981753</th>\n",
              "      <td>10000.0</td>\n",
              "      <td>NaN</td>\n",
              "      <td>5.0</td>\n",
              "    </tr>\n",
              "    <tr>\n",
              "      <th>981754</th>\n",
              "      <td>10000.0</td>\n",
              "      <td>51328.0</td>\n",
              "      <td>NaN</td>\n",
              "    </tr>\n",
              "  </tbody>\n",
              "</table>\n",
              "<p>981755 rows × 3 columns</p>\n",
              "</div>\n",
              "      <button class=\"colab-df-convert\" onclick=\"convertToInteractive('df-e92b8c4d-2ce0-4b18-9293-cada4d1f3be2')\"\n",
              "              title=\"Convert this dataframe to an interactive table.\"\n",
              "              style=\"display:none;\">\n",
              "        \n",
              "  <svg xmlns=\"http://www.w3.org/2000/svg\" height=\"24px\"viewBox=\"0 0 24 24\"\n",
              "       width=\"24px\">\n",
              "    <path d=\"M0 0h24v24H0V0z\" fill=\"none\"/>\n",
              "    <path d=\"M18.56 5.44l.94 2.06.94-2.06 2.06-.94-2.06-.94-.94-2.06-.94 2.06-2.06.94zm-11 1L8.5 8.5l.94-2.06 2.06-.94-2.06-.94L8.5 2.5l-.94 2.06-2.06.94zm10 10l.94 2.06.94-2.06 2.06-.94-2.06-.94-.94-2.06-.94 2.06-2.06.94z\"/><path d=\"M17.41 7.96l-1.37-1.37c-.4-.4-.92-.59-1.43-.59-.52 0-1.04.2-1.43.59L10.3 9.45l-7.72 7.72c-.78.78-.78 2.05 0 2.83L4 21.41c.39.39.9.59 1.41.59.51 0 1.02-.2 1.41-.59l7.78-7.78 2.81-2.81c.8-.78.8-2.07 0-2.86zM5.41 20L4 18.59l7.72-7.72 1.47 1.35L5.41 20z\"/>\n",
              "  </svg>\n",
              "      </button>\n",
              "      \n",
              "  <style>\n",
              "    .colab-df-container {\n",
              "      display:flex;\n",
              "      flex-wrap:wrap;\n",
              "      gap: 12px;\n",
              "    }\n",
              "\n",
              "    .colab-df-convert {\n",
              "      background-color: #E8F0FE;\n",
              "      border: none;\n",
              "      border-radius: 50%;\n",
              "      cursor: pointer;\n",
              "      display: none;\n",
              "      fill: #1967D2;\n",
              "      height: 32px;\n",
              "      padding: 0 0 0 0;\n",
              "      width: 32px;\n",
              "    }\n",
              "\n",
              "    .colab-df-convert:hover {\n",
              "      background-color: #E2EBFA;\n",
              "      box-shadow: 0px 1px 2px rgba(60, 64, 67, 0.3), 0px 1px 3px 1px rgba(60, 64, 67, 0.15);\n",
              "      fill: #174EA6;\n",
              "    }\n",
              "\n",
              "    [theme=dark] .colab-df-convert {\n",
              "      background-color: #3B4455;\n",
              "      fill: #D2E3FC;\n",
              "    }\n",
              "\n",
              "    [theme=dark] .colab-df-convert:hover {\n",
              "      background-color: #434B5C;\n",
              "      box-shadow: 0px 1px 3px 1px rgba(0, 0, 0, 0.15);\n",
              "      filter: drop-shadow(0px 1px 2px rgba(0, 0, 0, 0.3));\n",
              "      fill: #FFFFFF;\n",
              "    }\n",
              "  </style>\n",
              "\n",
              "      <script>\n",
              "        const buttonEl =\n",
              "          document.querySelector('#df-e92b8c4d-2ce0-4b18-9293-cada4d1f3be2 button.colab-df-convert');\n",
              "        buttonEl.style.display =\n",
              "          google.colab.kernel.accessAllowed ? 'block' : 'none';\n",
              "\n",
              "        async function convertToInteractive(key) {\n",
              "          const element = document.querySelector('#df-e92b8c4d-2ce0-4b18-9293-cada4d1f3be2');\n",
              "          const dataTable =\n",
              "            await google.colab.kernel.invokeFunction('convertToInteractive',\n",
              "                                                     [key], {});\n",
              "          if (!dataTable) return;\n",
              "\n",
              "          const docLinkHtml = 'Like what you see? Visit the ' +\n",
              "            '<a target=\"_blank\" href=https://colab.research.google.com/notebooks/data_table.ipynb>data table notebook</a>'\n",
              "            + ' to learn more about interactive tables.';\n",
              "          element.innerHTML = '';\n",
              "          dataTable['output_type'] = 'display_data';\n",
              "          await google.colab.output.renderOutput(dataTable, element);\n",
              "          const docLink = document.createElement('div');\n",
              "          docLink.innerHTML = docLinkHtml;\n",
              "          element.appendChild(docLink);\n",
              "        }\n",
              "      </script>\n",
              "    </div>\n",
              "  </div>\n",
              "  "
            ]
          },
          "metadata": {},
          "execution_count": 40
        }
      ]
    },
    {
      "cell_type": "code",
      "source": [
        "# Перевірити наявність NaN значень у отриманому наборі.\n",
        "if(data.isnull().any().any()):\n",
        "  print(\"Є значення NaN. Кількість: \", data.isnull().sum().sum(), \"; всього кількість значень: \", data.size)\n",
        "else:\n",
        "  print(\"У таблиці не має значення NaN.\")"
      ],
      "metadata": {
        "colab": {
          "base_uri": "https://localhost:8080/"
        },
        "id": "yDn4UC8_0OQr",
        "outputId": "d5090acb-200a-4deb-c495-be0b3dd85b1f"
      },
      "execution_count": null,
      "outputs": [
        {
          "output_type": "stream",
          "name": "stdout",
          "text": [
            "Є значення NaN. Кількість:  1973327 ; всього кількість значень:  2945265\n"
          ]
        }
      ]
    },
    {
      "cell_type": "code",
      "source": [
        "# Обрати тип Strategy для створення екземпляру класу SimpleImputer за варіантом:\n",
        "# непарні - strategy='constant'\n",
        "\n",
        "imputer = SimpleImputer(missing_values = np.nan, strategy='constant', fill_value=0)\n",
        "new_data = pd.DataFrame(imputer.fit_transform(data_np), columns=data.columns)\n",
        "\n",
        "if(new_data.isnull().any().any()):\n",
        "  print(\"Є значення NaN. Кількість: \", data.isnull().sum().sum(), \"; всього кількість значень: \", data.size)\n",
        "else:\n",
        "  print(\"У таблиці не має значення NaN.\")"
      ],
      "metadata": {
        "colab": {
          "base_uri": "https://localhost:8080/"
        },
        "id": "-tLWrWyA1A2f",
        "outputId": "11772104-833a-401d-cdd4-1eb6e2cb2fd8"
      },
      "execution_count": null,
      "outputs": [
        {
          "output_type": "stream",
          "name": "stdout",
          "text": [
            "У таблиці не має значення NaN.\n"
          ]
        }
      ]
    }
  ]
}